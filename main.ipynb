{
 "cells": [
  {
   "cell_type": "code",
   "execution_count": 1,
   "metadata": {},
   "outputs": [],
   "source": [
    "from pyspark.sql import SparkSession\n",
    "from pyspark.sql.functions import col\n",
    "import requests\n",
    "import os\n",
    "import sys\n",
    "import requests"
   ]
  },
  {
   "cell_type": "code",
   "execution_count": 4,
   "metadata": {},
   "outputs": [],
   "source": [
    "os.environ['PYSPARK_PYTHON'] = sys.executable\n",
    "os.environ['PYSPARK_DRIVER_PYTHON'] = sys.executable\n",
    "\n",
    "# Create a Spark session\n",
    "spark = SparkSession.builder.appName(\"PivotGDPData\") \\\n",
    "                    .config(\"spark.network.timeout\", \"600s\") \\\n",
    "                    .config(\"spark.executor.heartbeatInterval\", \"120s\") \\\n",
    "                    .config(\"spark.jars\", \"C:\\Spark\\jars\\postgresql-42.6.0.jar\") \\\n",
    "                    .getOrCreate()"
   ]
  },
  {
   "cell_type": "code",
   "execution_count": 5,
   "metadata": {},
   "outputs": [],
   "source": [
    "# Base URL for the World Bank API\n",
    "base_url = \"http://api.worldbank.org/v2/country\"\n",
    "indicator = \"NY.GDP.MKTP.CD\"\n",
    "params = {\"format\": \"json\"}\n",
    "\n",
    "# Get the list of all country codes\n",
    "response = requests.get(base_url, params=params)\n",
    "data = response.json()\n",
    "country_list = data[1]\n"
   ]
  },
  {
   "cell_type": "code",
   "execution_count": 6,
   "metadata": {},
   "outputs": [],
   "source": [
    "# Create a list to hold the data\n",
    "gdp_data = []\n",
    "\n",
    "# Iterate through each country and replace \"BRA\" with the country code\n",
    "for country in country_list:\n",
    "    country_code = country[\"id\"]\n",
    "    \n",
    "    # Construct the API URL with the specific country code\n",
    "    api_url = f\"{base_url}/{country_code}/indicator/{indicator}\"\n",
    "   \n",
    "    \n",
    "    # Make the API request\n",
    "    response = requests.get(api_url, params=params)\n",
    "    data = response.json()\n",
    "    \n",
    "    # Extract GDP data if available\n",
    "    if data[1]:\n",
    "        entries = data[1]\n",
    "        country_name = entries[0][\"country\"][\"value\"]\n",
    "        for entry in entries: \n",
    "            gdp_value = entry[\"value\"]\n",
    "            if gdp_value is not None:\n",
    "                gdp_value = round(entry[\"value\"] / 10**8, 3)\n",
    "            else: \n",
    "                gdp_value = 0.0\n",
    "\n",
    "            Year = entry[\"date\"]\n",
    "            \n",
    "            if(int(Year) > 2011): \n",
    "                gdp_data.append((Year, country_name, country_code, float(gdp_value)))\n",
    "            else: \n",
    "                continue\n"
   ]
  },
  {
   "cell_type": "code",
   "execution_count": 7,
   "metadata": {},
   "outputs": [
    {
     "name": "stdout",
     "output_type": "stream",
     "text": [
      "+----+--------------------+-----------+----------------------+\n",
      "|Year|         CountryName|CountryCode|GDPValue in 10 million|\n",
      "+----+--------------------+-----------+----------------------+\n",
      "|2022|               Aruba|        ABW|                35.447|\n",
      "|2021|               Aruba|        ABW|                31.032|\n",
      "|2020|               Aruba|        ABW|                25.589|\n",
      "|2019|               Aruba|        ABW|                33.958|\n",
      "|2018|               Aruba|        ABW|                32.762|\n",
      "|2017|               Aruba|        ABW|                30.924|\n",
      "|2016|               Aruba|        ABW|                29.836|\n",
      "|2015|               Aruba|        ABW|                29.629|\n",
      "|2014|               Aruba|        ABW|                27.908|\n",
      "|2013|               Aruba|        ABW|                27.278|\n",
      "|2012|               Aruba|        ABW|                26.152|\n",
      "|2022|Africa Eastern an...|        AFE|             11851.377|\n",
      "|2021|Africa Eastern an...|        AFE|             10865.307|\n",
      "|2020|Africa Eastern an...|        AFE|              9288.802|\n",
      "|2019|Africa Eastern an...|        AFE|              10061.91|\n",
      "|2018|Africa Eastern an...|        AFE|             10125.214|\n",
      "|2017|Africa Eastern an...|        AFE|             10283.943|\n",
      "|2016|Africa Eastern an...|        AFE|              8900.514|\n",
      "|2015|Africa Eastern an...|        AFE|              9325.135|\n",
      "|2014|Africa Eastern an...|        AFE|             10069.925|\n",
      "+----+--------------------+-----------+----------------------+\n",
      "only showing top 20 rows\n",
      "\n"
     ]
    }
   ],
   "source": [
    "# Create a DataFrame from the collected data\n",
    "columns = [\"Year\", \"CountryName\", \"CountryCode\", \"GDPValue in 10 million\"]\n",
    "df = spark.createDataFrame(gdp_data, columns)\n",
    "df.show()"
   ]
  },
  {
   "cell_type": "code",
   "execution_count": 9,
   "metadata": {},
   "outputs": [
    {
     "name": "stdout",
     "output_type": "stream",
     "text": [
      "+--------------------+-----------+---------+---------+---------+---------+---------+---------+---------+---------+---------+---------+---------+\n",
      "|         CountryName|CountryCode|     2012|     2013|     2014|     2015|     2016|     2017|     2018|     2019|     2020|     2021|     2022|\n",
      "+--------------------+-----------+---------+---------+---------+---------+---------+---------+---------+---------+---------+---------+---------+\n",
      "|              Bhutan|        BTN|   17.813|   17.562|   19.071|   20.036|    21.59|   25.914|   25.833|   27.357|   24.576|    27.68|      0.0|\n",
      "|               Aruba|        ABW|   26.152|   27.278|   27.908|   29.629|   29.836|   30.924|   32.762|   33.958|   25.589|   31.032|   35.447|\n",
      "|     Channel Islands|        CHI|      0.0|      0.0|      0.0|      0.0|   95.112|   95.302|  104.229|  103.817|   98.115|  117.357|      0.0|\n",
      "|        Bahamas, The|        BHS|  107.204|  103.955|  109.748|  116.729|  117.508|  122.535|  126.536|  130.587|   97.546|  115.276|  128.974|\n",
      "|           Australia|        AUS|15476.498|15773.018|14685.977|13517.689|12075.809|13268.821|14297.337|13946.713|13303.815|15590.338|16929.566|\n",
      "|          Azerbaijan|        AZE|  696.799|  741.606|  752.398|  530.762|   378.67|  408.666|  471.125|  481.742|   426.93|  548.254|  787.211|\n",
      "|Bosnia and Herzeg...|        BIH|  172.267|  181.791|  185.587|  164.043|  171.169|  183.264|  204.841|  204.826|   202.26|  236.496|  244.739|\n",
      "|            Botswana|        BWA|  139.075|  142.717|  154.701|  135.307|  150.826|  161.052|  170.319|  167.259|  149.603|  187.371|  203.555|\n",
      "|             Bermuda|        BMU|   63.782|   64.658|    64.14|   66.545|   68.999|   71.423|    72.26|   74.235|   68.871|   71.272|    75.46|\n",
      "|              Angola|        AGO| 1280.529| 1323.391| 1359.668|  904.964|  527.616|  736.902|  794.507|   708.98|  485.016|  665.051| 1067.828|\n",
      "|             Andorra|        AND|   31.887|   31.935|   32.717|   27.899|   28.966|   30.002|   32.184|   31.552|    28.91|   33.251|    33.52|\n",
      "|          Arab World|        ARB|28029.308|28609.285|29072.452|25558.061|25393.936|26397.548|28458.984|28716.548|25355.085|29304.804|35433.398|\n",
      "|United Arab Emirates|        ARE| 3846.101| 4002.185| 4141.054| 3702.755| 3692.553| 3905.168| 4270.494| 4179.897|  3494.73| 4151.788|  5070.64|\n",
      "|         Switzerland|        CHE| 6864.202| 7062.349| 7265.378| 6941.182| 6878.955| 6952.008| 7255.687| 7213.691| 7419.994| 8134.088| 8184.266|\n",
      "|            Bulgaria|        BGR|  542.881|  558.521|  571.578|   508.12|  539.643|  593.097|  663.701|   688.81|  703.688|  840.415|  903.462|\n",
      "|             Armenia|        ARM|  106.193|  111.215|  116.095|  105.533|  105.461|  115.275|  124.579|  136.193|  126.417|  138.789|  195.135|\n",
      "|Africa Western an...|        AFW| 7377.395|  8340.97|  8945.05| 7692.632| 6921.149| 6856.303| 7681.582| 8234.056| 7869.624| 8449.275| 8753.937|\n",
      "|             Burundi|        BDI|   23.333|   24.516|   27.058|    31.04|   26.445|   27.236|   26.672|   25.765|   26.497|   27.758|   33.387|\n",
      "| Antigua and Barbuda|        ATG|   13.271|   13.254|   13.788|   14.378|   14.897|   15.312|   16.615|   17.254|   14.108|   16.014|   18.677|\n",
      "|         Afghanistan|        AFG|  199.073|  201.464|  204.971|  191.342|  181.166|  187.535|  180.532|  187.994|  199.559|  142.665|      0.0|\n",
      "+--------------------+-----------+---------+---------+---------+---------+---------+---------+---------+---------+---------+---------+---------+\n",
      "only showing top 20 rows\n",
      "\n"
     ]
    }
   ],
   "source": [
    "# Pivot the DataFrame to have separate columns for GDP values for each year\n",
    "gdp_df = df.groupBy(\"CountryName\", \"CountryCode\") \\\n",
    "               .pivot(\"Year\") \\\n",
    "               .agg({\"GDPValue in 10 million\": \"first\"})\n",
    "\n",
    "# Show the pivoted DataFrame\n",
    "gdp_df.show()\n",
    "\n",
    "# JDBC URL for Postgres\n",
    "jdbc_url = \"jdbc:postgresql://localhost:59064/worldBank\"\n",
    "\n",
    "# Connection properties\n",
    "properties = {\n",
    "    \"user\": \"postgres\",\n",
    "    \"password\": \"Iamfine1809*\",\n",
    "    \"driver\": \"org.postgresql.Driver\"\n",
    "}\n",
    "\n",
    "# Save DataFrame to Postgres\n",
    "gdp_df.write.jdbc(url=jdbc_url, table=\"gdp_data\", mode=\"overwrite\", properties=properties)"
   ]
  },
  {
   "cell_type": "code",
   "execution_count": 10,
   "metadata": {},
   "outputs": [],
   "source": [
    "base_url = \"http://api.worldbank.org/v2/country\"\n",
    "indicator_id = \"NY.GNP.PCAP.CD\"\n",
    "gni_data = []\n",
    "\n",
    "for country in country_list:\n",
    "    country_code = country[\"id\"]\n",
    "    \n",
    "    # Construct the API URL with the specific country code\n",
    "    api_url = f\"{base_url}/{country_code}/indicator/{indicator_id}\"\n",
    "   \n",
    "    \n",
    "    # Make the API request\n",
    "    response = requests.get(api_url, params=params)\n",
    "    data = response.json()\n",
    "\n",
    "    if data[1]:\n",
    "        entries = data[1]\n",
    "        country_name = entries[0][\"country\"][\"value\"]\n",
    "        for entry in entries: \n",
    "            gni_value = entry[\"value\"]\n",
    "            if gni_value is not None:\n",
    "                gni_value = entry[\"value\"] \n",
    "            else: \n",
    "                gni_value = 0.0\n",
    "\n",
    "            Year = entry[\"date\"]\n",
    "            \n",
    "            if(int(Year) > 2011): \n",
    "                gni_data.append((Year, country_name, country_code, float(gni_value)))\n",
    "            else: \n",
    "                continue\n"
   ]
  },
  {
   "cell_type": "code",
   "execution_count": 20,
   "metadata": {},
   "outputs": [
    {
     "name": "stdout",
     "output_type": "stream",
     "text": [
      "+----+--------------------+-----------+----------------+\n",
      "|Year|         CountryName|CountryCode|             GNI|\n",
      "+----+--------------------+-----------+----------------+\n",
      "|2022|               Aruba|        ABW|         33410.0|\n",
      "|2021|               Aruba|        ABW|         30180.0|\n",
      "|2020|               Aruba|        ABW|         23340.0|\n",
      "|2019|               Aruba|        ABW|         29450.0|\n",
      "|2018|               Aruba|        ABW|         28910.0|\n",
      "|2017|               Aruba|        ABW|         27960.0|\n",
      "|2016|               Aruba|        ABW|         26200.0|\n",
      "|2015|               Aruba|        ABW|         25320.0|\n",
      "|2014|               Aruba|        ABW|         25520.0|\n",
      "|2013|               Aruba|        ABW|         25500.0|\n",
      "|2012|               Aruba|        ABW|         24440.0|\n",
      "|2022|Africa Eastern an...|        AFE|1551.22636765834|\n",
      "|2021|Africa Eastern an...|        AFE| 1468.7399071809|\n",
      "|2020|Africa Eastern an...|        AFE|1394.37153646633|\n",
      "|2019|Africa Eastern an...|        AFE|1503.60583375846|\n",
      "|2018|Africa Eastern an...|        AFE|1466.42716824188|\n",
      "|2017|Africa Eastern an...|        AFE| 1453.8870754489|\n",
      "|2016|Africa Eastern an...|        AFE|1468.49955596585|\n",
      "|2015|Africa Eastern an...|        AFE|1584.54598973533|\n",
      "|2014|Africa Eastern an...|        AFE|1700.02530164649|\n",
      "+----+--------------------+-----------+----------------+\n",
      "only showing top 20 rows\n",
      "\n"
     ]
    }
   ],
   "source": [
    "from pyspark.sql.functions import when, col\n",
    "columns = [\"Year\", \"CountryName\", \"CountryCode\", \"GNI\"]\n",
    "df = spark.createDataFrame(gni_data, columns)\n",
    "gni_df = df.na.fill(value=0,subset=[\"GNI\"])\n",
    "# Show the DataFrame with nulls replaced by 0s\n",
    "gni_df.show()\n",
    "\n"
   ]
  },
  {
   "cell_type": "code",
   "execution_count": 12,
   "metadata": {},
   "outputs": [
    {
     "name": "stdout",
     "output_type": "stream",
     "text": [
      "+--------------------+-----------+----------------+----------------+---------------+----------------+----------------+----------------+----------------+----------------+----------------+----------------+----------------+\n",
      "|         CountryName|CountryCode|            2012|            2013|           2014|            2015|            2016|            2017|            2018|            2019|            2020|            2021|            2022|\n",
      "+--------------------+-----------+----------------+----------------+---------------+----------------+----------------+----------------+----------------+----------------+----------------+----------------+----------------+\n",
      "|              Bhutan|        BTN|          2330.0|          2350.0|         2400.0|          2470.0|          2600.0|          2820.0|          3070.0|          3360.0|          3030.0|          3290.0|             0.0|\n",
      "|               Aruba|        ABW|         24440.0|         25500.0|        25520.0|         25320.0|         26200.0|         27960.0|         28910.0|         29450.0|         23340.0|         30180.0|         33410.0|\n",
      "|     Channel Islands|        CHI|             0.0|             0.0|            0.0|             0.0|             0.0|             0.0|             0.0|             0.0|             0.0|             0.0|             0.0|\n",
      "|        Bahamas, The|        BHS|         27170.0|         26210.0|        26520.0|         26760.0|         26960.0|         28400.0|         29550.0|         30440.0|         23040.0|         27870.0|         31520.0|\n",
      "|           Australia|        AUS|         60290.0|         66090.0|        65240.0|         60550.0|         54140.0|         51530.0|         53150.0|         54970.0|         53630.0|         57240.0|         60840.0|\n",
      "|          Azerbaijan|        AZE|          6480.0|          7450.0|         7740.0|          6610.0|          4790.0|          4110.0|          4080.0|          4510.0|          4480.0|          4910.0|          5660.0|\n",
      "|Bosnia and Herzeg...|        BIH|          4900.0|          5160.0|         5170.0|          5130.0|          5060.0|          5050.0|          5700.0|          6160.0|          6120.0|          6900.0|          7660.0|\n",
      "|            Botswana|        BWA|          6700.0|          6710.0|         6710.0|          5860.0|          5760.0|          5860.0|          6270.0|          6630.0|          6130.0|          6900.0|          7430.0|\n",
      "|             Bermuda|        BMU|        100100.0|        101760.0|        99920.0|        101120.0|        103620.0|        112940.0|        117000.0|        117280.0|        111800.0|        120020.0|        125210.0|\n",
      "|              Angola|        AGO|          4160.0|          4710.0|         4810.0|          3930.0|          2550.0|          2090.0|          1970.0|          2110.0|          1690.0|          1640.0|          1880.0|\n",
      "|             Andorra|        AND|             0.0|             0.0|            0.0|             0.0|             0.0|             0.0|             0.0|         46530.0|         42280.0|         44350.0|             0.0|\n",
      "|          Arab World|        ARB|6931.80300653281|7335.83274940827|7377.7041726953| 6922.9658612494|6518.38146439264|6114.38909629097|6281.64244976814|6462.60476829938|5968.94283775516|6297.02680451768|7027.86315938231|\n",
      "|United Arab Emirates|        ARE|         41810.0|         45850.0|        47420.0|         46270.0|         44460.0|         42090.0|         44350.0|         46210.0|         41600.0|         43590.0|         49160.0|\n",
      "|         Switzerland|        CHE|         86720.0|         90590.0|        88250.0|         86810.0|         83360.0|         80770.0|         82470.0|         83160.0|         81740.0|         90810.0|         95490.0|\n",
      "|            Bulgaria|        BGR|          7500.0|          7600.0|         7710.0|          7430.0|          7400.0|          7620.0|          8530.0|          9500.0|          9530.0|         11050.0|         13350.0|\n",
      "|             Armenia|        ARM|          3840.0|          4110.0|         4170.0|          4080.0|          3850.0|          4070.0|          4410.0|          4880.0|          4470.0|          4850.0|          5960.0|\n",
      "|Africa Western an...|        AFW|1767.38750714923|1928.66650963285|2100.3216575397|2012.48658970252|1787.00793071327|1606.80727369683|1630.10096232553|1703.26689475276|1696.80858684362|1747.66336224696|1787.61377534841|\n",
      "|             Burundi|        BDI|           240.0|           240.0|          250.0|           250.0|           250.0|           250.0|           240.0|           230.0|           220.0|           220.0|           240.0|\n",
      "| Antigua and Barbuda|        ATG|         14030.0|         14650.0|        14670.0|         14480.0|         14980.0|         15710.0|         17290.0|         18000.0|         15080.0|         16430.0|         19050.0|\n",
      "|         Afghanistan|        AFG|           640.0|           670.0|          640.0|           600.0|           560.0|           530.0|           520.0|           520.0|           490.0|           380.0|             0.0|\n",
      "+--------------------+-----------+----------------+----------------+---------------+----------------+----------------+----------------+----------------+----------------+----------------+----------------+----------------+\n",
      "only showing top 20 rows\n",
      "\n"
     ]
    }
   ],
   "source": [
    "gni_df = gni_df.groupBy(\"CountryName\", \"CountryCode\") \\\n",
    "               .pivot(\"Year\") \\\n",
    "               .agg({\"GNI\": \"first\"})\n",
    "\n",
    "# Show the pivoted DataFrame\n",
    "gni_df.show()"
   ]
  },
  {
   "cell_type": "code",
   "execution_count": null,
   "metadata": {},
   "outputs": [],
   "source": [
    "dbc_url = \"jdbc:postgresql://localhost:59064/worldBank\"\n",
    "\n",
    "# Connection properties\n",
    "properties = {\n",
    "    \"user\": \"\",\n",
    "    \"password\": \"\",\n",
    "    \"driver\": \"\"\n",
    "}\n",
    "\n",
    "# Save DataFrame to Postgres\n",
    "gni_df.write.jdbc(url=jdbc_url, table=\"gni\", mode=\"overwrite\", properties=properties)"
   ]
  },
  {
   "cell_type": "code",
   "execution_count": 13,
   "metadata": {},
   "outputs": [
    {
     "name": "stdout",
     "output_type": "stream",
     "text": [
      "Low Income DataFrame:\n",
      "Lower Middle Income DataFrame:\n",
      "+----+--------------------+-----------+----------------+\n",
      "|Year|         CountryName|CountryCode|             GNI|\n",
      "+----+--------------------+-----------+----------------+\n",
      "|2022|Africa Eastern an...|        AFE|1551.22636765834|\n",
      "|2021|Africa Eastern an...|        AFE| 1468.7399071809|\n",
      "|2020|Africa Eastern an...|        AFE|1394.37153646633|\n",
      "|2019|Africa Eastern an...|        AFE|1503.60583375846|\n",
      "|2018|Africa Eastern an...|        AFE|1466.42716824188|\n",
      "|2017|Africa Eastern an...|        AFE| 1453.8870754489|\n",
      "|2016|Africa Eastern an...|        AFE|1468.49955596585|\n",
      "|2015|Africa Eastern an...|        AFE|1584.54598973533|\n",
      "|2014|Africa Eastern an...|        AFE|1700.02530164649|\n",
      "|2013|Africa Eastern an...|        AFE|1721.52058603829|\n",
      "|2012|Africa Eastern an...|        AFE|1693.13397385954|\n",
      "|2022|Africa Western an...|        AFW|1787.61377534841|\n",
      "|2021|Africa Western an...|        AFW|1747.66336224696|\n",
      "|2020|Africa Western an...|        AFW|1696.80858684362|\n",
      "|2019|Africa Western an...|        AFW|1703.26689475276|\n",
      "|2018|Africa Western an...|        AFW|1630.10096232553|\n",
      "|2017|Africa Western an...|        AFW|1606.80727369683|\n",
      "|2016|Africa Western an...|        AFW|1787.00793071327|\n",
      "|2015|Africa Western an...|        AFW|2012.48658970252|\n",
      "|2014|Africa Western an...|        AFW| 2100.3216575397|\n",
      "+----+--------------------+-----------+----------------+\n",
      "only showing top 20 rows\n",
      "\n",
      "Upper Middle Income DataFrame:\n",
      "+----+-----------+-----------+----------------+\n",
      "|Year|CountryName|CountryCode|             GNI|\n",
      "+----+-----------+-----------+----------------+\n",
      "|2014|     Angola|        AGO|          4810.0|\n",
      "|2013|     Angola|        AGO|          4710.0|\n",
      "|2012|     Angola|        AGO|          4160.0|\n",
      "|2022|    Albania|        ALB|          6770.0|\n",
      "|2021|    Albania|        ALB|          6100.0|\n",
      "|2020|    Albania|        ALB|          5270.0|\n",
      "|2019|    Albania|        ALB|          5230.0|\n",
      "|2018|    Albania|        ALB|          4860.0|\n",
      "|2017|    Albania|        ALB|          4290.0|\n",
      "|2016|    Albania|        ALB|          4320.0|\n",
      "|2015|    Albania|        ALB|          4390.0|\n",
      "|2014|    Albania|        ALB|          4540.0|\n",
      "|2013|    Albania|        ALB|          4540.0|\n",
      "|2012|    Albania|        ALB|          4360.0|\n",
      "|2022| Arab World|        ARB|7027.86315938231|\n",
      "|2021| Arab World|        ARB|6297.02680451768|\n",
      "|2020| Arab World|        ARB|5968.94283775516|\n",
      "|2019| Arab World|        ARB|6462.60476829938|\n",
      "|2018| Arab World|        ARB|6281.64244976814|\n",
      "|2017| Arab World|        ARB|6114.38909629097|\n",
      "+----+-----------+-----------+----------------+\n",
      "only showing top 20 rows\n",
      "\n",
      "High Income DataFrame:\n",
      "+----+--------------------+-----------+-------+\n",
      "|Year|         CountryName|CountryCode|    GNI|\n",
      "+----+--------------------+-----------+-------+\n",
      "|2022|               Aruba|        ABW|33410.0|\n",
      "|2021|               Aruba|        ABW|30180.0|\n",
      "|2020|               Aruba|        ABW|23340.0|\n",
      "|2019|               Aruba|        ABW|29450.0|\n",
      "|2018|               Aruba|        ABW|28910.0|\n",
      "|2017|               Aruba|        ABW|27960.0|\n",
      "|2016|               Aruba|        ABW|26200.0|\n",
      "|2015|               Aruba|        ABW|25320.0|\n",
      "|2014|               Aruba|        ABW|25520.0|\n",
      "|2013|               Aruba|        ABW|25500.0|\n",
      "|2012|               Aruba|        ABW|24440.0|\n",
      "|2021|             Andorra|        AND|44350.0|\n",
      "|2020|             Andorra|        AND|42280.0|\n",
      "|2019|             Andorra|        AND|46530.0|\n",
      "|2022|United Arab Emirates|        ARE|49160.0|\n",
      "|2021|United Arab Emirates|        ARE|43590.0|\n",
      "|2020|United Arab Emirates|        ARE|41600.0|\n",
      "|2019|United Arab Emirates|        ARE|46210.0|\n",
      "|2018|United Arab Emirates|        ARE|44350.0|\n",
      "|2017|United Arab Emirates|        ARE|42090.0|\n",
      "+----+--------------------+-----------+-------+\n",
      "only showing top 20 rows\n",
      "\n"
     ]
    }
   ],
   "source": [
    "# Define the income group thresholds\n",
    "low_income_threshold = 1045\n",
    "lower_middle_income_threshold = 4095\n",
    "upper_middle_income_threshold = 12695\n",
    "\n",
    "\n",
    "# Create DataFrames for different income groups\n",
    "low_income_df = gni_df.filter(gni_df[\"GNI\"] <= low_income_threshold)\n",
    "lower_middle_income_df = gni_df.filter((gni_df[\"GNI\"] > low_income_threshold) & (gni_df[\"GNI\"] <= lower_middle_income_threshold))\n",
    "upper_middle_income_df = gni_df.filter((gni_df[\"GNI\"] > lower_middle_income_threshold) & (gni_df[\"GNI\"] <= upper_middle_income_threshold))\n",
    "high_income_df = gni_df.filter(gni_df[\"GNI\"] > upper_middle_income_threshold)\n",
    "\n",
    "# Show the content of each DataFrame (for illustration purposes)\n",
    "print(\"Low Income DataFrame:\")\n",
    "\n",
    "print(\"Lower Middle Income DataFrame:\")\n",
    "lower_middle_income_df.show()\n",
    "\n",
    "print(\"Upper Middle Income DataFrame:\")\n",
    "upper_middle_income_df.show()\n",
    "\n",
    "print(\"High Income DataFrame:\")\n",
    "high_income_df.show()"
   ]
  },
  {
   "cell_type": "code",
   "execution_count": 18,
   "metadata": {},
   "outputs": [
    {
     "name": "stdout",
     "output_type": "stream",
     "text": [
      "+--------------------+-----------+-----+------+-----+-----+-----+-----+-----+-----+-----+-----+-----+\n",
      "|         CountryName|CountryCode| 2012|  2013| 2014| 2015| 2016| 2017| 2018| 2019| 2020| 2021| 2022|\n",
      "+--------------------+-----------+-----+------+-----+-----+-----+-----+-----+-----+-----+-----+-----+\n",
      "|              Bhutan|        BTN| null|  null| null| null| null| null| null| null| null| null|  0.0|\n",
      "|     Channel Islands|        CHI|  0.0|   0.0|  0.0|  0.0|  0.0|  0.0|  0.0|  0.0|  0.0|  0.0|  0.0|\n",
      "|             Andorra|        AND|  0.0|   0.0|  0.0|  0.0|  0.0|  0.0|  0.0| null| null| null|  0.0|\n",
      "|             Burundi|        BDI|240.0| 240.0|250.0|250.0|250.0|250.0|240.0|230.0|220.0|220.0|240.0|\n",
      "|         Afghanistan|        AFG|640.0| 670.0|640.0|600.0|560.0|530.0|520.0|520.0|490.0|380.0|  0.0|\n",
      "|      American Samoa|        ASM|  0.0|   0.0|  0.0|  0.0|  0.0|  0.0|  0.0|  0.0|  0.0|  0.0|  0.0|\n",
      "|          Bangladesh|        BGD|970.0|1030.0| null| null| null| null| null| null| null| null| null|\n",
      "|Central African R...|        CAF|530.0| 350.0|360.0|370.0|380.0|400.0|450.0|470.0|460.0|480.0|480.0|\n",
      "|        Burkina Faso|        BFA|710.0| 750.0|740.0|680.0|660.0|650.0|730.0|750.0|770.0|830.0|850.0|\n",
      "+--------------------+-----------+-----+------+-----+-----+-----+-----+-----+-----+-----+-----+-----+\n",
      "\n"
     ]
    }
   ],
   "source": [
    "# Pivot the DataFrame\n",
    "low_income_df = low_income_df.groupBy(\"CountryName\", \"CountryCode\") \\\n",
    "                          .pivot(\"Year\") \\\n",
    "                          .agg({\"GNI\": \"first\"})\n",
    "                          \n",
    "\n",
    "# Show the pivoted DataFrame before filling null values\n",
    "low_income_df.show()\n"
   ]
  },
  {
   "cell_type": "code",
   "execution_count": 19,
   "metadata": {},
   "outputs": [
    {
     "name": "stdout",
     "output_type": "stream",
     "text": [
      "+--------------------+-----------+-----+------+-----+-----+-----+-----+-----+-----+-----+-----+-----+\n",
      "|         CountryName|CountryCode| 2012|  2013| 2014| 2015| 2016| 2017| 2018| 2019| 2020| 2021| 2022|\n",
      "+--------------------+-----------+-----+------+-----+-----+-----+-----+-----+-----+-----+-----+-----+\n",
      "|              Bhutan|        BTN|  0.0|   0.0|  0.0|  0.0|  0.0|  0.0|  0.0|  0.0|  0.0|  0.0|  0.0|\n",
      "|     Channel Islands|        CHI|  0.0|   0.0|  0.0|  0.0|  0.0|  0.0|  0.0|  0.0|  0.0|  0.0|  0.0|\n",
      "|             Andorra|        AND|  0.0|   0.0|  0.0|  0.0|  0.0|  0.0|  0.0|  0.0|  0.0|  0.0|  0.0|\n",
      "|             Burundi|        BDI|240.0| 240.0|250.0|250.0|250.0|250.0|240.0|230.0|220.0|220.0|240.0|\n",
      "|         Afghanistan|        AFG|640.0| 670.0|640.0|600.0|560.0|530.0|520.0|520.0|490.0|380.0|  0.0|\n",
      "|      American Samoa|        ASM|  0.0|   0.0|  0.0|  0.0|  0.0|  0.0|  0.0|  0.0|  0.0|  0.0|  0.0|\n",
      "|          Bangladesh|        BGD|970.0|1030.0|  0.0|  0.0|  0.0|  0.0|  0.0|  0.0|  0.0|  0.0|  0.0|\n",
      "|Central African R...|        CAF|530.0| 350.0|360.0|370.0|380.0|400.0|450.0|470.0|460.0|480.0|480.0|\n",
      "|        Burkina Faso|        BFA|710.0| 750.0|740.0|680.0|660.0|650.0|730.0|750.0|770.0|830.0|850.0|\n",
      "+--------------------+-----------+-----+------+-----+-----+-----+-----+-----+-----+-----+-----+-----+\n",
      "\n"
     ]
    }
   ],
   "source": [
    "from pyspark.sql.functions import col, when\n",
    "\n",
    "# List of columns starting from the third column (excluding 'CountryName' and 'CountryCode')\n",
    "columns_to_fill = low_income_df.columns[2:]\n",
    "\n",
    "# Replace null values with 0 in the specified columns\n",
    "for col_name in columns_to_fill:\n",
    "    low_income_df = low_income_df.withColumn(col_name, when(col(col_name).isNull(), 0).otherwise(col(col_name)))\n",
    "\n",
    "# Show the DataFrame after replacing null values with 0\n",
    "low_income_df.show()\n",
    "\n"
   ]
  },
  {
   "cell_type": "code",
   "execution_count": null,
   "metadata": {},
   "outputs": [
    {
     "name": "stdout",
     "output_type": "stream",
     "text": [
      "+--------------------+\n",
      "|         CountryName|\n",
      "+--------------------+\n",
      "|              Angola|\n",
      "|Africa Eastern an...|\n",
      "|Africa Western an...|\n",
      "|             Armenia|\n",
      "|               Benin|\n",
      "|          Azerbaijan|\n",
      "|          Bangladesh|\n",
      "|             Bolivia|\n",
      "|              Bhutan|\n",
      "+--------------------+\n",
      "\n"
     ]
    }
   ],
   "source": [
    "selected_column = \"CountryName\"\n",
    "selected_column_df = lower_middle_income_df.select(selected_column).distinct()\n",
    "selected_column_df.show()"
   ]
  },
  {
   "cell_type": "code",
   "execution_count": null,
   "metadata": {},
   "outputs": [
    {
     "name": "stdout",
     "output_type": "stream",
     "text": [
      "+--------------------+-----------+----------------+----------------+----------------+----------------+---------------+----------------+----------------+---------------+----------------+----------------+----------------+\n",
      "|         CountryName|CountryCode|            2012|            2013|            2014|            2015|           2016|            2017|            2018|           2019|            2020|            2021|            2022|\n",
      "+--------------------+-----------+----------------+----------------+----------------+----------------+---------------+----------------+----------------+---------------+----------------+----------------+----------------+\n",
      "|          Azerbaijan|        AZE|          6480.0|          7450.0|          7740.0|          6610.0|         4790.0|          4110.0|            null|         4510.0|          4480.0|          4910.0|          5630.0|\n",
      "|Bosnia and Herzeg...|        BIH|          4900.0|          5160.0|          5170.0|          5130.0|         5060.0|          5050.0|          5700.0|         6160.0|          6120.0|          6900.0|          7660.0|\n",
      "|            Botswana|        BWA|          6700.0|          7020.0|          6800.0|          5890.0|         5760.0|          5850.0|          6220.0|         6630.0|          6020.0|          6610.0|          7350.0|\n",
      "|              Angola|        AGO|            null|          4650.0|          4800.0|            null|           null|            null|            null|           null|            null|            null|            null|\n",
      "|          Arab World|        ARB|6917.57598528832|7319.83614749816|7362.87055574403|6913.82388370232|6509.5790865836|6098.99502047463|6264.88260453234|6444.1959278509|5949.45690542345|6269.58448763588|7007.23425866129|\n",
      "|            Bulgaria|        BGR|          7500.0|          7600.0|          7710.0|          7430.0|         7410.0|          7620.0|          8540.0|         9510.0|          9530.0|         11200.0|            null|\n",
      "|             Armenia|        ARM|            null|          4110.0|          4170.0|            null|           null|            null|          4410.0|         4880.0|          4470.0|          4850.0|          5960.0|\n",
      "|              Belize|        BLZ|          5250.0|          5510.0|          5610.0|          5770.0|         5650.0|          5520.0|          5660.0|         5890.0|          5210.0|          6070.0|          6800.0|\n",
      "|           Argentina|        ARG|         11890.0|            null|         12350.0|         12600.0|        12220.0|            null|         12430.0|        11220.0|          9010.0|          9960.0|         11620.0|\n",
      "|             Albania|        ALB|          4360.0|          4540.0|          4540.0|          4390.0|         4320.0|          4290.0|          4860.0|         5230.0|          5270.0|          6100.0|          6770.0|\n",
      "|             Belarus|        BLR|          6630.0|          7030.0|          7620.0|          6750.0|         5640.0|          5320.0|          5730.0|         6370.0|          6400.0|          7040.0|          7240.0|\n",
      "|              Brazil|        BRA|         12270.0|            null|         12080.0|         10160.0|         8890.0|          8670.0|          9140.0|         9220.0|          7910.0|          7900.0|          8140.0|\n",
      "+--------------------+-----------+----------------+----------------+----------------+----------------+---------------+----------------+----------------+---------------+----------------+----------------+----------------+\n",
      "\n"
     ]
    }
   ],
   "source": [
    "upper_middle_income_df = upper_middle_income_df.groupBy(\"CountryName\", \"CountryCode\") \\\n",
    "               .pivot(\"Year\") \\\n",
    "               .agg({\"GNI\": \"first\"})\n",
    "\n",
    "# Show the pivoted DataFrame\n",
    "upper_middle_income_df.show()"
   ]
  },
  {
   "cell_type": "code",
   "execution_count": null,
   "metadata": {},
   "outputs": [
    {
     "name": "stdout",
     "output_type": "stream",
     "text": [
      "+--------------------+-----------+----------------+----------------+----------------+----------------+----------------+----------------+----------------+----------------+----------------+----------------+----------------+\n",
      "|         CountryName|CountryCode|            2012|            2013|            2014|            2015|            2016|            2017|            2018|            2019|            2020|            2021|            2022|\n",
      "+--------------------+-----------+----------------+----------------+----------------+----------------+----------------+----------------+----------------+----------------+----------------+----------------+----------------+\n",
      "|               Aruba|        ABW|         24440.0|         25500.0|         25790.0|         26180.0|         26650.0|         27720.0|         29310.0|         30330.0|         24840.0|         29460.0|            null|\n",
      "|        Bahamas, The|        BHS|         27200.0|         26280.0|         26840.0|         27270.0|         27340.0|         28630.0|         29440.0|         30350.0|         23270.0|         27300.0|         31530.0|\n",
      "|           Australia|        AUS|         60270.0|         66050.0|         65190.0|         60480.0|         54080.0|         51490.0|         53100.0|         54900.0|         53620.0|         57170.0|         60430.0|\n",
      "|             Bermuda|        BMU|        100100.0|        101760.0|         99920.0|        101120.0|        103620.0|        112940.0|        117000.0|        117280.0|        111800.0|        120020.0|        125240.0|\n",
      "|             Andorra|        AND|            null|            null|            null|            null|            null|            null|            null|         46530.0|            null|            null|            null|\n",
      "|United Arab Emirates|        ARE|         41810.0|         45850.0|         47420.0|         46270.0|         44460.0|         42090.0|         44350.0|         46210.0|         41600.0|         43460.0|         48950.0|\n",
      "|         Switzerland|        CHE|         86720.0|         90590.0|         88250.0|         86810.0|         83360.0|         80770.0|         82470.0|         83160.0|         82490.0|         88910.0|         89450.0|\n",
      "|            Bulgaria|        BGR|            null|            null|            null|            null|            null|            null|            null|            null|            null|            null|         13250.0|\n",
      "| Antigua and Barbuda|        ATG|         13180.0|         13040.0|         13230.0|         13370.0|         14170.0|         15030.0|         16650.0|         17480.0|         15010.0|         16060.0|         18280.0|\n",
      "|           Argentina|        ARG|            null|         12870.0|            null|            null|            null|         13140.0|            null|            null|            null|            null|            null|\n",
      "|             Bahrain|        BHR|         23360.0|         24790.0|         24530.0|         22740.0|         21820.0|         21790.0|         23210.0|         24420.0|         22960.0|         24730.0|         27180.0|\n",
      "|              Canada|        CAN|         51080.0|         52800.0|         52200.0|         47590.0|         43890.0|         42900.0|         45080.0|         46600.0|         43810.0|         48720.0|         52960.0|\n",
      "|             Belgium|        BEL|         47130.0|         47900.0|         47820.0|         45570.0|         43400.0|         42520.0|         46060.0|         48110.0|         46040.0|         50530.0|         48700.0|\n",
      "|Central Europe an...|        CEB|13137.9221657635|13387.8510139875|13555.6947026163|13248.3583243452|12825.1987199828|13066.3518482854|14691.3797415789|15931.6776804048|15842.7748027733|17639.0405860594|19272.3805042222|\n",
      "|              Brazil|        BRA|            null|         12750.0|            null|            null|            null|            null|            null|            null|            null|            null|            null|\n",
      "|               Chile|        CHL|         14310.0|         15230.0|         14830.0|         14210.0|         13440.0|         13340.0|         14600.0|         14830.0|         13010.0|         14800.0|         15360.0|\n",
      "|   Brunei Darussalam|        BRN|         41580.0|         44520.0|         42380.0|         38250.0|         32690.0|         29400.0|         29030.0|         31880.0|         31210.0|         30320.0|         31410.0|\n",
      "|            Barbados|        BRB|         16150.0|         16080.0|         16050.0|         16170.0|         16350.0|         16490.0|         17020.0|         17630.0|         16230.0|         16900.0|         19350.0|\n",
      "|             Austria|        AUT|         50100.0|         50720.0|         50390.0|         47480.0|         46240.0|         45040.0|         48980.0|         51020.0|         48990.0|         52760.0|         56140.0|\n",
      "+--------------------+-----------+----------------+----------------+----------------+----------------+----------------+----------------+----------------+----------------+----------------+----------------+----------------+\n",
      "\n"
     ]
    }
   ],
   "source": [
    "high_income_df = high_income_df.groupBy(\"CountryName\", \"CountryCode\") \\\n",
    "               .pivot(\"Year\") \\\n",
    "               .agg({\"GNI\": \"first\"})\n",
    "\n",
    "# Show the pivoted DataFrame\n",
    "high_income_df.show()"
   ]
  }
 ],
 "metadata": {
  "kernelspec": {
   "display_name": "venv",
   "language": "python",
   "name": "python3"
  },
  "language_info": {
   "codemirror_mode": {
    "name": "ipython",
    "version": 3
   },
   "file_extension": ".py",
   "mimetype": "text/x-python",
   "name": "python",
   "nbconvert_exporter": "python",
   "pygments_lexer": "ipython3",
   "version": "3.9.7"
  },
  "orig_nbformat": 4
 },
 "nbformat": 4,
 "nbformat_minor": 2
}
