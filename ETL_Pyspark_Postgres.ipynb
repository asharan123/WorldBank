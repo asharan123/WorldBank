{
 "cells": [
  {
   "cell_type": "code",
   "execution_count": 2,
   "metadata": {},
   "outputs": [],
   "source": [
    "from pyspark.sql import SparkSession\n",
    "from pyspark.sql.functions import col\n",
    "import requests\n",
    "import os\n",
    "import sys\n",
    "import requests"
   ]
  },
  {
   "cell_type": "code",
   "execution_count": 3,
   "metadata": {},
   "outputs": [],
   "source": [
    "os.environ['PYSPARK_PYTHON'] = sys.executable\n",
    "os.environ['PYSPARK_DRIVER_PYTHON'] = sys.executable\n",
    "\n",
    "# Create a Spark session\n",
    "spark = SparkSession.builder.appName(\"PivotGDPData\") \\\n",
    "                    .config(\"spark.network.timeout\", \"600s\") \\\n",
    "                    .config(\"spark.executor.heartbeatInterval\", \"120s\") \\\n",
    "                    .config(\"spark.jars\", \"C:\\Spark\\jars\\postgresql-42.6.0.jar\") \\\n",
    "                    .getOrCreate()"
   ]
  },
  {
   "cell_type": "code",
   "execution_count": 4,
   "metadata": {},
   "outputs": [],
   "source": [
    "# Base URL for the World Bank API\n",
    "base_url = \"http://api.worldbank.org/v2/country\"\n",
    "indicator = \"NY.GDP.MKTP.CD\"\n",
    "params = {\"format\": \"json\"}\n",
    "\n",
    "# Get the list of all country codes\n",
    "response = requests.get(base_url, params=params)\n",
    "data = response.json()\n",
    "country_list = data[1]\n"
   ]
  },
  {
   "cell_type": "code",
   "execution_count": 5,
   "metadata": {},
   "outputs": [],
   "source": [
    "# Create a list to hold the data\n",
    "gdp_data = []\n",
    "\n",
    "# Iterate through each country and replace \"BRA\" with the country code\n",
    "for country in country_list:\n",
    "    country_code = country[\"id\"]\n",
    "    \n",
    "    # Construct the API URL with the specific country code\n",
    "    api_url = f\"{base_url}/{country_code}/indicator/{indicator}\"\n",
    "   \n",
    "    \n",
    "    # Make the API request\n",
    "    response = requests.get(api_url, params=params)\n",
    "    data = response.json()\n",
    "    \n",
    "    # Extract GDP data if available\n",
    "    if data[1]:\n",
    "        entries = data[1]\n",
    "        country_name = entries[0][\"country\"][\"value\"]\n",
    "        for entry in entries: \n",
    "            gdp_value = entry[\"value\"]\n",
    "            if gdp_value is not None:\n",
    "                gdp_value = round(entry[\"value\"] / 10**8, 3)\n",
    "            else: \n",
    "                gdp_value = 0.0\n",
    "\n",
    "            Year = entry[\"date\"]\n",
    "            \n",
    "            if(int(Year) > 2011): \n",
    "                gdp_data.append((Year, country_name, country_code, float(gdp_value)))\n",
    "            else: \n",
    "                continue\n"
   ]
  },
  {
   "cell_type": "code",
   "execution_count": 6,
   "metadata": {},
   "outputs": [
    {
     "name": "stdout",
     "output_type": "stream",
     "text": [
      "+----+--------------------+-----------+----------------------+\n",
      "|Year|         CountryName|CountryCode|GDPValue in 10 million|\n",
      "+----+--------------------+-----------+----------------------+\n",
      "|2022|               Aruba|        ABW|                35.447|\n",
      "|2021|               Aruba|        ABW|                31.032|\n",
      "|2020|               Aruba|        ABW|                25.589|\n",
      "|2019|               Aruba|        ABW|                33.958|\n",
      "|2018|               Aruba|        ABW|                32.762|\n",
      "|2017|               Aruba|        ABW|                30.924|\n",
      "|2016|               Aruba|        ABW|                29.836|\n",
      "|2015|               Aruba|        ABW|                29.629|\n",
      "|2014|               Aruba|        ABW|                27.908|\n",
      "|2013|               Aruba|        ABW|                27.278|\n",
      "|2012|               Aruba|        ABW|                26.152|\n",
      "|2022|Africa Eastern an...|        AFE|             11851.377|\n",
      "|2021|Africa Eastern an...|        AFE|             10865.307|\n",
      "|2020|Africa Eastern an...|        AFE|              9288.802|\n",
      "|2019|Africa Eastern an...|        AFE|              10061.91|\n",
      "|2018|Africa Eastern an...|        AFE|             10125.214|\n",
      "|2017|Africa Eastern an...|        AFE|             10283.943|\n",
      "|2016|Africa Eastern an...|        AFE|              8900.514|\n",
      "|2015|Africa Eastern an...|        AFE|              9325.135|\n",
      "|2014|Africa Eastern an...|        AFE|             10069.925|\n",
      "+----+--------------------+-----------+----------------------+\n",
      "only showing top 20 rows\n",
      "\n"
     ]
    }
   ],
   "source": [
    "# Create a DataFrame from the collected data\n",
    "columns = [\"Year\", \"CountryName\", \"CountryCode\", \"GDPValue in 10 million\"]\n",
    "df = spark.createDataFrame(gdp_data, columns)\n",
    "df.show()"
   ]
  },
  {
   "cell_type": "code",
   "execution_count": 7,
   "metadata": {},
   "outputs": [],
   "source": [
    "# Pivot the DataFrame to have separate columns for GDP values for each year\n",
    "gdp_df = df.groupBy(\"CountryName\", \"CountryCode\") \\\n",
    "               .pivot(\"Year\") \\\n",
    "               .agg({\"GDPValue in 10 million\": \"first\"})"
   ]
  },
  {
   "cell_type": "code",
   "execution_count": 8,
   "metadata": {},
   "outputs": [],
   "source": [
    "indicator_id = \"NY.GNP.PCAP.CD\"\n",
    "gni_data = []\n",
    "\n",
    "for country in country_list:\n",
    "    country_code = country[\"id\"]\n",
    "    \n",
    "    # Construct the API URL with the specific country code\n",
    "    api_url = f\"{base_url}/{country_code}/indicator/{indicator_id}\"\n",
    "   \n",
    "    \n",
    "    # Make the API request\n",
    "    response = requests.get(api_url, params=params)\n",
    "    data = response.json()\n",
    "\n",
    "    if data[1]:\n",
    "        entries = data[1]\n",
    "        country_name = entries[0][\"country\"][\"value\"]\n",
    "        for entry in entries: \n",
    "            gni_value = entry[\"value\"]\n",
    "            if gni_value is not None:\n",
    "                gni_value = entry[\"value\"] \n",
    "            else: \n",
    "                gni_value = 0.0\n",
    "\n",
    "            Year = entry[\"date\"]\n",
    "            \n",
    "            if(int(Year) > 2011): \n",
    "                gni_data.append((Year, country_name, country_code, float(gni_value)))\n",
    "            else: \n",
    "                continue\n"
   ]
  },
  {
   "cell_type": "code",
   "execution_count": 12,
   "metadata": {},
   "outputs": [
    {
     "name": "stdout",
     "output_type": "stream",
     "text": [
      "+----+--------------------+-----------+----------------+\n",
      "|Year|         CountryName|CountryCode|             GNI|\n",
      "+----+--------------------+-----------+----------------+\n",
      "|2022|               Aruba|        ABW|         33410.0|\n",
      "|2021|               Aruba|        ABW|         30180.0|\n",
      "|2020|               Aruba|        ABW|         23340.0|\n",
      "|2019|               Aruba|        ABW|         29450.0|\n",
      "|2018|               Aruba|        ABW|         28910.0|\n",
      "|2017|               Aruba|        ABW|         27960.0|\n",
      "|2016|               Aruba|        ABW|         26200.0|\n",
      "|2015|               Aruba|        ABW|         25320.0|\n",
      "|2014|               Aruba|        ABW|         25520.0|\n",
      "|2013|               Aruba|        ABW|         25500.0|\n",
      "|2012|               Aruba|        ABW|         24440.0|\n",
      "|2022|Africa Eastern an...|        AFE|1551.22636765834|\n",
      "|2021|Africa Eastern an...|        AFE| 1468.7399071809|\n",
      "|2020|Africa Eastern an...|        AFE|1394.37153646633|\n",
      "|2019|Africa Eastern an...|        AFE|1503.60583375846|\n",
      "|2018|Africa Eastern an...|        AFE|1466.42716824188|\n",
      "|2017|Africa Eastern an...|        AFE| 1453.8870754489|\n",
      "|2016|Africa Eastern an...|        AFE|1468.49955596585|\n",
      "|2015|Africa Eastern an...|        AFE|1584.54598973533|\n",
      "|2014|Africa Eastern an...|        AFE|1700.02530164649|\n",
      "+----+--------------------+-----------+----------------+\n",
      "only showing top 20 rows\n",
      "\n"
     ]
    }
   ],
   "source": [
    "columns = [\"Year\", \"CountryName\", \"CountryCode\", \"GNI\"]\n",
    "df = spark.createDataFrame(gni_data, columns)\n",
    "gni_df = df.na.fill(value=0,subset=[\"GNI\"])\n",
    "gni_df.show()"
   ]
  },
  {
   "cell_type": "code",
   "execution_count": 10,
   "metadata": {},
   "outputs": [
    {
     "name": "stdout",
     "output_type": "stream",
     "text": [
      "+--------------------+-----------+----------------+----------------+---------------+----------------+----------------+----------------+----------------+----------------+----------------+----------------+----------------+\n",
      "|         CountryName|CountryCode|            2012|            2013|           2014|            2015|            2016|            2017|            2018|            2019|            2020|            2021|            2022|\n",
      "+--------------------+-----------+----------------+----------------+---------------+----------------+----------------+----------------+----------------+----------------+----------------+----------------+----------------+\n",
      "|              Bhutan|        BTN|          2330.0|          2350.0|         2400.0|          2470.0|          2600.0|          2820.0|          3070.0|          3360.0|          3030.0|          3290.0|             0.0|\n",
      "|               Aruba|        ABW|         24440.0|         25500.0|        25520.0|         25320.0|         26200.0|         27960.0|         28910.0|         29450.0|         23340.0|         30180.0|         33410.0|\n",
      "|     Channel Islands|        CHI|             0.0|             0.0|            0.0|             0.0|             0.0|             0.0|             0.0|             0.0|             0.0|             0.0|             0.0|\n",
      "|        Bahamas, The|        BHS|         27170.0|         26210.0|        26520.0|         26760.0|         26960.0|         28400.0|         29550.0|         30440.0|         23040.0|         27870.0|         31520.0|\n",
      "|           Australia|        AUS|         60290.0|         66090.0|        65240.0|         60550.0|         54140.0|         51530.0|         53150.0|         54970.0|         53630.0|         57240.0|         60840.0|\n",
      "|          Azerbaijan|        AZE|          6480.0|          7450.0|         7740.0|          6610.0|          4790.0|          4110.0|          4080.0|          4510.0|          4480.0|          4910.0|          5660.0|\n",
      "|Bosnia and Herzeg...|        BIH|          4900.0|          5160.0|         5170.0|          5130.0|          5060.0|          5050.0|          5700.0|          6160.0|          6120.0|          6900.0|          7660.0|\n",
      "|            Botswana|        BWA|          6700.0|          6710.0|         6710.0|          5860.0|          5760.0|          5860.0|          6270.0|          6630.0|          6130.0|          6900.0|          7430.0|\n",
      "|             Bermuda|        BMU|        100100.0|        101760.0|        99920.0|        101120.0|        103620.0|        112940.0|        117000.0|        117280.0|        111800.0|        120020.0|        125210.0|\n",
      "|              Angola|        AGO|          4160.0|          4710.0|         4810.0|          3930.0|          2550.0|          2090.0|          1970.0|          2110.0|          1690.0|          1640.0|          1880.0|\n",
      "|             Andorra|        AND|             0.0|             0.0|            0.0|             0.0|             0.0|             0.0|             0.0|         46530.0|         42280.0|         44350.0|             0.0|\n",
      "|          Arab World|        ARB|6931.80300653281|7335.83274940827|7377.7041726953| 6922.9658612494|6518.38146439264|6114.38909629097|6281.64244976814|6462.60476829938|5968.94283775516|6297.02680451768|7027.86315938231|\n",
      "|United Arab Emirates|        ARE|         41810.0|         45850.0|        47420.0|         46270.0|         44460.0|         42090.0|         44350.0|         46210.0|         41600.0|         43590.0|         49160.0|\n",
      "|         Switzerland|        CHE|         86720.0|         90590.0|        88250.0|         86810.0|         83360.0|         80770.0|         82470.0|         83160.0|         81740.0|         90810.0|         95490.0|\n",
      "|            Bulgaria|        BGR|          7500.0|          7600.0|         7710.0|          7430.0|          7400.0|          7620.0|          8530.0|          9500.0|          9530.0|         11050.0|         13350.0|\n",
      "|             Armenia|        ARM|          3840.0|          4110.0|         4170.0|          4080.0|          3850.0|          4070.0|          4410.0|          4880.0|          4470.0|          4850.0|          5960.0|\n",
      "|Africa Western an...|        AFW|1767.38750714923|1928.66650963285|2100.3216575397|2012.48658970252|1787.00793071327|1606.80727369683|1630.10096232553|1703.26689475276|1696.80858684362|1747.66336224696|1787.61377534841|\n",
      "|             Burundi|        BDI|           240.0|           240.0|          250.0|           250.0|           250.0|           250.0|           240.0|           230.0|           220.0|           220.0|           240.0|\n",
      "| Antigua and Barbuda|        ATG|         14030.0|         14650.0|        14670.0|         14480.0|         14980.0|         15710.0|         17290.0|         18000.0|         15080.0|         16430.0|         19050.0|\n",
      "|         Afghanistan|        AFG|           640.0|           670.0|          640.0|           600.0|           560.0|           530.0|           520.0|           520.0|           490.0|           380.0|             0.0|\n",
      "+--------------------+-----------+----------------+----------------+---------------+----------------+----------------+----------------+----------------+----------------+----------------+----------------+----------------+\n",
      "only showing top 20 rows\n",
      "\n"
     ]
    }
   ],
   "source": [
    "gni_pivoted_df = gni_df.groupBy(\"CountryName\", \"CountryCode\") \\\n",
    "               .pivot(\"Year\") \\\n",
    "               .agg({\"GNI\": \"first\"})\n",
    "\n",
    "# Show the pivoted DataFrame\n",
    "gni_pivoted_df.show()"
   ]
  },
  {
   "cell_type": "code",
   "execution_count": 13,
   "metadata": {},
   "outputs": [
    {
     "name": "stdout",
     "output_type": "stream",
     "text": [
      "Low Income DataFrame:\n",
      "Lower Middle Income DataFrame:\n",
      "+----+--------------------+-----------+----------------+\n",
      "|Year|         CountryName|CountryCode|             GNI|\n",
      "+----+--------------------+-----------+----------------+\n",
      "|2022|Africa Eastern an...|        AFE|1551.22636765834|\n",
      "|2021|Africa Eastern an...|        AFE| 1468.7399071809|\n",
      "|2020|Africa Eastern an...|        AFE|1394.37153646633|\n",
      "|2019|Africa Eastern an...|        AFE|1503.60583375846|\n",
      "|2018|Africa Eastern an...|        AFE|1466.42716824188|\n",
      "|2017|Africa Eastern an...|        AFE| 1453.8870754489|\n",
      "|2016|Africa Eastern an...|        AFE|1468.49955596585|\n",
      "|2015|Africa Eastern an...|        AFE|1584.54598973533|\n",
      "|2014|Africa Eastern an...|        AFE|1700.02530164649|\n",
      "|2013|Africa Eastern an...|        AFE|1721.52058603829|\n",
      "|2012|Africa Eastern an...|        AFE|1693.13397385954|\n",
      "|2022|Africa Western an...|        AFW|1787.61377534841|\n",
      "|2021|Africa Western an...|        AFW|1747.66336224696|\n",
      "|2020|Africa Western an...|        AFW|1696.80858684362|\n",
      "|2019|Africa Western an...|        AFW|1703.26689475276|\n",
      "|2018|Africa Western an...|        AFW|1630.10096232553|\n",
      "|2017|Africa Western an...|        AFW|1606.80727369683|\n",
      "|2016|Africa Western an...|        AFW|1787.00793071327|\n",
      "|2015|Africa Western an...|        AFW|2012.48658970252|\n",
      "|2014|Africa Western an...|        AFW| 2100.3216575397|\n",
      "+----+--------------------+-----------+----------------+\n",
      "only showing top 20 rows\n",
      "\n",
      "Upper Middle Income DataFrame:\n",
      "+----+-----------+-----------+----------------+\n",
      "|Year|CountryName|CountryCode|             GNI|\n",
      "+----+-----------+-----------+----------------+\n",
      "|2014|     Angola|        AGO|          4810.0|\n",
      "|2013|     Angola|        AGO|          4710.0|\n",
      "|2012|     Angola|        AGO|          4160.0|\n",
      "|2022|    Albania|        ALB|          6770.0|\n",
      "|2021|    Albania|        ALB|          6100.0|\n",
      "|2020|    Albania|        ALB|          5270.0|\n",
      "|2019|    Albania|        ALB|          5230.0|\n",
      "|2018|    Albania|        ALB|          4860.0|\n",
      "|2017|    Albania|        ALB|          4290.0|\n",
      "|2016|    Albania|        ALB|          4320.0|\n",
      "|2015|    Albania|        ALB|          4390.0|\n",
      "|2014|    Albania|        ALB|          4540.0|\n",
      "|2013|    Albania|        ALB|          4540.0|\n",
      "|2012|    Albania|        ALB|          4360.0|\n",
      "|2022| Arab World|        ARB|7027.86315938231|\n",
      "|2021| Arab World|        ARB|6297.02680451768|\n",
      "|2020| Arab World|        ARB|5968.94283775516|\n",
      "|2019| Arab World|        ARB|6462.60476829938|\n",
      "|2018| Arab World|        ARB|6281.64244976814|\n",
      "|2017| Arab World|        ARB|6114.38909629097|\n",
      "+----+-----------+-----------+----------------+\n",
      "only showing top 20 rows\n",
      "\n",
      "High Income DataFrame:\n",
      "+----+--------------------+-----------+-------+\n",
      "|Year|         CountryName|CountryCode|    GNI|\n",
      "+----+--------------------+-----------+-------+\n",
      "|2022|               Aruba|        ABW|33410.0|\n",
      "|2021|               Aruba|        ABW|30180.0|\n",
      "|2020|               Aruba|        ABW|23340.0|\n",
      "|2019|               Aruba|        ABW|29450.0|\n",
      "|2018|               Aruba|        ABW|28910.0|\n",
      "|2017|               Aruba|        ABW|27960.0|\n",
      "|2016|               Aruba|        ABW|26200.0|\n",
      "|2015|               Aruba|        ABW|25320.0|\n",
      "|2014|               Aruba|        ABW|25520.0|\n",
      "|2013|               Aruba|        ABW|25500.0|\n",
      "|2012|               Aruba|        ABW|24440.0|\n",
      "|2021|             Andorra|        AND|44350.0|\n",
      "|2020|             Andorra|        AND|42280.0|\n",
      "|2019|             Andorra|        AND|46530.0|\n",
      "|2022|United Arab Emirates|        ARE|49160.0|\n",
      "|2021|United Arab Emirates|        ARE|43590.0|\n",
      "|2020|United Arab Emirates|        ARE|41600.0|\n",
      "|2019|United Arab Emirates|        ARE|46210.0|\n",
      "|2018|United Arab Emirates|        ARE|44350.0|\n",
      "|2017|United Arab Emirates|        ARE|42090.0|\n",
      "+----+--------------------+-----------+-------+\n",
      "only showing top 20 rows\n",
      "\n"
     ]
    }
   ],
   "source": [
    "# Define the income group thresholds\n",
    "low_income_threshold = 1045\n",
    "lower_middle_income_threshold = 4095\n",
    "upper_middle_income_threshold = 12695\n",
    "\n",
    "\n",
    "# Create DataFrames for different income groups\n",
    "low_income_df = gni_df.filter(gni_df[\"GNI\"] <= low_income_threshold)\n",
    "lower_middle_income_df = gni_df.filter((gni_df[\"GNI\"] > low_income_threshold) & (gni_df[\"GNI\"] <= lower_middle_income_threshold))\n",
    "upper_middle_income_df = gni_df.filter((gni_df[\"GNI\"] > lower_middle_income_threshold) & (gni_df[\"GNI\"] <= upper_middle_income_threshold))\n",
    "high_income_df = gni_df.filter(gni_df[\"GNI\"] > upper_middle_income_threshold)\n",
    "\n",
    "# Show the content of each DataFrame (for illustration purposes)\n",
    "print(\"Low Income DataFrame:\")\n",
    "\n",
    "print(\"Lower Middle Income DataFrame:\")\n",
    "lower_middle_income_df.show()\n",
    "\n",
    "print(\"Upper Middle Income DataFrame:\")\n",
    "upper_middle_income_df.show()\n",
    "\n",
    "print(\"High Income DataFrame:\")\n",
    "high_income_df.show()"
   ]
  },
  {
   "cell_type": "code",
   "execution_count": 34,
   "metadata": {},
   "outputs": [
    {
     "name": "stdout",
     "output_type": "stream",
     "text": [
      "+--------------------+-----------+-----+------+-----+-----+-----+-----+-----+-----+-----+-----+-----+\n",
      "|         CountryName|CountryCode| 2012|  2013| 2014| 2015| 2016| 2017| 2018| 2019| 2020| 2021| 2022|\n",
      "+--------------------+-----------+-----+------+-----+-----+-----+-----+-----+-----+-----+-----+-----+\n",
      "|              Bhutan|        BTN| null|  null| null| null| null| null| null| null| null| null|  0.0|\n",
      "|     Channel Islands|        CHI|  0.0|   0.0|  0.0|  0.0|  0.0|  0.0|  0.0|  0.0|  0.0|  0.0|  0.0|\n",
      "|             Andorra|        AND|  0.0|   0.0|  0.0|  0.0|  0.0|  0.0|  0.0| null| null| null|  0.0|\n",
      "|             Burundi|        BDI|240.0| 240.0|250.0|250.0|250.0|250.0|240.0|230.0|220.0|220.0|240.0|\n",
      "|         Afghanistan|        AFG|640.0| 670.0|640.0|600.0|560.0|530.0|520.0|520.0|490.0|380.0|  0.0|\n",
      "|      American Samoa|        ASM|  0.0|   0.0|  0.0|  0.0|  0.0|  0.0|  0.0|  0.0|  0.0|  0.0|  0.0|\n",
      "|          Bangladesh|        BGD|970.0|1030.0| null| null| null| null| null| null| null| null| null|\n",
      "|Central African R...|        CAF|530.0| 350.0|360.0|370.0|380.0|400.0|450.0|470.0|460.0|480.0|480.0|\n",
      "|        Burkina Faso|        BFA|710.0| 750.0|740.0|680.0|660.0|650.0|730.0|750.0|770.0|830.0|850.0|\n",
      "+--------------------+-----------+-----+------+-----+-----+-----+-----+-----+-----+-----+-----+-----+\n",
      "\n"
     ]
    }
   ],
   "source": [
    "# Pivot the DataFrame\n",
    "low_income_df = low_income_df.groupBy(\"CountryName\", \"CountryCode\") \\\n",
    "                          .pivot(\"Year\") \\\n",
    "                          .agg({\"GNI\": \"first\"})\n",
    "                          \n",
    "\n",
    "# Show the pivoted DataFrame before filling null values\n",
    "low_income_df.show()\n"
   ]
  },
  {
   "cell_type": "code",
   "execution_count": 35,
   "metadata": {},
   "outputs": [
    {
     "name": "stdout",
     "output_type": "stream",
     "text": [
      "+--------------------+-----------+----------------+----------------+----------------+----------------+----------------+----------------+----------------+----------------+----------------+----------------+----------------+\n",
      "|         CountryName|CountryCode|            2012|            2013|            2014|            2015|            2016|            2017|            2018|            2019|            2020|            2021|            2022|\n",
      "+--------------------+-----------+----------------+----------------+----------------+----------------+----------------+----------------+----------------+----------------+----------------+----------------+----------------+\n",
      "|              Bhutan|        BTN|          2330.0|          2350.0|          2400.0|          2470.0|          2600.0|          2820.0|          3070.0|          3360.0|          3030.0|          3290.0|            null|\n",
      "|          Azerbaijan|        AZE|            null|            null|            null|            null|            null|            null|          4080.0|            null|            null|            null|            null|\n",
      "|              Angola|        AGO|            null|            null|            null|          3930.0|          2550.0|          2090.0|          1970.0|          2110.0|          1690.0|          1640.0|          1880.0|\n",
      "|             Armenia|        ARM|          3840.0|            null|            null|          4080.0|          3850.0|          4070.0|            null|            null|            null|            null|            null|\n",
      "|Africa Western an...|        AFW|1767.38750714923|1928.66650963285| 2100.3216575397|2012.48658970252|1787.00793071327|1606.80727369683|1630.10096232553|1703.26689475276|1696.80858684362|1747.66336224696|1787.61377534841|\n",
      "|Africa Eastern an...|        AFE|1693.13397385954|1721.52058603829|1700.02530164649|1584.54598973533|1468.49955596585| 1453.8870754489|1466.42716824188|1503.60583375846|1394.37153646633| 1468.7399071809|1551.22636765834|\n",
      "|          Bangladesh|        BGD|            null|            null|          1100.0|          1210.0|          1410.0|          1650.0|          2020.0|          2210.0|          2300.0|          2570.0|          2820.0|\n",
      "|               Benin|        BEN|          1090.0|          1180.0|          1230.0|          1140.0|          1070.0|          1050.0|          1150.0|          1200.0|          1230.0|          1330.0|          1400.0|\n",
      "|             Bolivia|        BOL|          2210.0|          2540.0|          2780.0|          2900.0|          2970.0|          3020.0|          3290.0|          3440.0|          3120.0|          3290.0|          3490.0|\n",
      "+--------------------+-----------+----------------+----------------+----------------+----------------+----------------+----------------+----------------+----------------+----------------+----------------+----------------+\n",
      "\n"
     ]
    }
   ],
   "source": [
    "# Pivot the DataFrame\n",
    "lower_middle_income_df = lower_middle_income_df.groupBy(\"CountryName\", \"CountryCode\") \\\n",
    "                          .pivot(\"Year\") \\\n",
    "                          .agg({\"GNI\": \"first\"})\n",
    "                          \n",
    "\n",
    "# Show the pivoted DataFrame before filling null values\n",
    "lower_middle_income_df.show()\n"
   ]
  },
  {
   "cell_type": "code",
   "execution_count": 37,
   "metadata": {},
   "outputs": [
    {
     "name": "stdout",
     "output_type": "stream",
     "text": [
      "+--------------------+-----------+----------------+----------------+---------------+---------------+----------------+----------------+----------------+----------------+----------------+----------------+----------------+\n",
      "|         CountryName|CountryCode|            2012|            2013|           2014|           2015|            2016|            2017|            2018|            2019|            2020|            2021|            2022|\n",
      "+--------------------+-----------+----------------+----------------+---------------+---------------+----------------+----------------+----------------+----------------+----------------+----------------+----------------+\n",
      "|          Azerbaijan|        AZE|          6480.0|          7450.0|         7740.0|         6610.0|          4790.0|          4110.0|            null|          4510.0|          4480.0|          4910.0|          5660.0|\n",
      "|Bosnia and Herzeg...|        BIH|          4900.0|          5160.0|         5170.0|         5130.0|          5060.0|          5050.0|          5700.0|          6160.0|          6120.0|          6900.0|          7660.0|\n",
      "|            Botswana|        BWA|          6700.0|          6710.0|         6710.0|         5860.0|          5760.0|          5860.0|          6270.0|          6630.0|          6130.0|          6900.0|          7430.0|\n",
      "|              Angola|        AGO|          4160.0|          4710.0|         4810.0|           null|            null|            null|            null|            null|            null|            null|            null|\n",
      "|          Arab World|        ARB|6931.80300653281|7335.83274940827|7377.7041726953|6922.9658612494|6518.38146439264|6114.38909629097|6281.64244976814|6462.60476829938|5968.94283775516|6297.02680451768|7027.86315938231|\n",
      "|            Bulgaria|        BGR|          7500.0|          7600.0|         7710.0|         7430.0|          7400.0|          7620.0|          8530.0|          9500.0|          9530.0|         11050.0|            null|\n",
      "|             Armenia|        ARM|            null|          4110.0|         4170.0|           null|            null|            null|          4410.0|          4880.0|          4470.0|          4850.0|          5960.0|\n",
      "|              Belize|        BLZ|          5240.0|          5490.0|         5580.0|         5730.0|          5600.0|          5470.0|          5600.0|          5820.0|          5120.0|          6040.0|          6630.0|\n",
      "|           Argentina|        ARG|         11890.0|            null|        12350.0|        12600.0|         12220.0|            null|         12430.0|         11220.0|          9010.0|          9980.0|         11590.0|\n",
      "|             Albania|        ALB|          4360.0|          4540.0|         4540.0|         4390.0|          4320.0|          4290.0|          4860.0|          5230.0|          5270.0|          6100.0|          6770.0|\n",
      "|             Belarus|        BLR|          6630.0|          7030.0|         7620.0|         6750.0|          5640.0|          5320.0|          5730.0|          6370.0|          6410.0|          7040.0|          7210.0|\n",
      "|              Brazil|        BRA|         12270.0|            null|        12080.0|        10160.0|          8890.0|          8670.0|          9140.0|          9220.0|          7910.0|          7850.0|          8140.0|\n",
      "+--------------------+-----------+----------------+----------------+---------------+---------------+----------------+----------------+----------------+----------------+----------------+----------------+----------------+\n",
      "\n"
     ]
    }
   ],
   "source": [
    "upper_middle_income_df = upper_middle_income_df.groupBy(\"CountryName\", \"CountryCode\") \\\n",
    "               .pivot(\"Year\") \\\n",
    "               .agg({\"GNI\": \"first\"})\n",
    "\n",
    "# Show the pivoted DataFrame\n",
    "upper_middle_income_df.show()"
   ]
  },
  {
   "cell_type": "code",
   "execution_count": 38,
   "metadata": {},
   "outputs": [
    {
     "name": "stdout",
     "output_type": "stream",
     "text": [
      "+--------------------+-----------+----------------+----------------+----------------+----------------+----------------+----------------+----------------+----------------+----------------+----------------+----------------+\n",
      "|         CountryName|CountryCode|            2012|            2013|            2014|            2015|            2016|            2017|            2018|            2019|            2020|            2021|            2022|\n",
      "+--------------------+-----------+----------------+----------------+----------------+----------------+----------------+----------------+----------------+----------------+----------------+----------------+----------------+\n",
      "|               Aruba|        ABW|         24440.0|         25500.0|         25520.0|         25320.0|         26200.0|         27960.0|         28910.0|         29450.0|         23340.0|         30180.0|         33410.0|\n",
      "|        Bahamas, The|        BHS|         27170.0|         26210.0|         26520.0|         26760.0|         26960.0|         28400.0|         29550.0|         30440.0|         23040.0|         27870.0|         31520.0|\n",
      "|           Australia|        AUS|         60290.0|         66090.0|         65240.0|         60550.0|         54140.0|         51530.0|         53150.0|         54970.0|         53630.0|         57240.0|         60840.0|\n",
      "|             Bermuda|        BMU|        100100.0|        101760.0|         99920.0|        101120.0|        103620.0|        112940.0|        117000.0|        117280.0|        111800.0|        120020.0|        125210.0|\n",
      "|             Andorra|        AND|            null|            null|            null|            null|            null|            null|            null|         46530.0|         42280.0|         44350.0|            null|\n",
      "|United Arab Emirates|        ARE|         41810.0|         45850.0|         47420.0|         46270.0|         44460.0|         42090.0|         44350.0|         46210.0|         41600.0|         43590.0|         49160.0|\n",
      "|         Switzerland|        CHE|         86720.0|         90590.0|         88250.0|         86810.0|         83360.0|         80770.0|         82470.0|         83160.0|         81740.0|         90810.0|         95490.0|\n",
      "|            Bulgaria|        BGR|            null|            null|            null|            null|            null|            null|            null|            null|            null|            null|         13350.0|\n",
      "| Antigua and Barbuda|        ATG|         14030.0|         14650.0|         14670.0|         14480.0|         14980.0|         15710.0|         17290.0|         18000.0|         15080.0|         16430.0|         19050.0|\n",
      "|           Argentina|        ARG|            null|         12870.0|            null|            null|            null|         13140.0|            null|            null|            null|            null|            null|\n",
      "|             Bahrain|        BHR|         23360.0|         24790.0|         24530.0|         22740.0|         21820.0|         21790.0|         23210.0|         24420.0|         22960.0|         24720.0|         27720.0|\n",
      "|              Canada|        CAN|         51080.0|         52800.0|         52200.0|         47590.0|         43890.0|         42900.0|         45080.0|         46600.0|         43810.0|         48720.0|         52960.0|\n",
      "|             Belgium|        BEL|         47130.0|         47900.0|         47820.0|         45570.0|         43400.0|         42520.0|         46060.0|         48100.0|         46100.0|         51060.0|         53890.0|\n",
      "|Central Europe an...|        CEB|13139.1283335508|13389.0826453858|13556.9283190515|13249.5587148913|12826.3976392504|13067.4933891326|14692.4794310562|15930.5516601439|15842.7368431827|17654.0120574579|19416.5865521834|\n",
      "|              Brazil|        BRA|            null|         12750.0|            null|            null|            null|            null|            null|            null|            null|            null|            null|\n",
      "|               Chile|        CHL|         14310.0|         15240.0|         14830.0|         14220.0|         13440.0|         13330.0|         14610.0|         14830.0|         13020.0|         14800.0|         15360.0|\n",
      "|   Brunei Darussalam|        BRN|         41580.0|         44520.0|         42380.0|         38250.0|         32690.0|         29400.0|         29030.0|         31880.0|         31210.0|         30320.0|         31410.0|\n",
      "|            Barbados|        BRB|         16170.0|         16120.0|         16090.0|         16200.0|         16390.0|         16530.0|         17110.0|         17680.0|         16420.0|         16710.0|         19490.0|\n",
      "|             Austria|        AUT|         50100.0|         50720.0|         50390.0|         47480.0|         46240.0|         45040.0|         48980.0|         51000.0|         48980.0|         53150.0|         55720.0|\n",
      "+--------------------+-----------+----------------+----------------+----------------+----------------+----------------+----------------+----------------+----------------+----------------+----------------+----------------+\n",
      "\n"
     ]
    }
   ],
   "source": [
    "high_income_df = high_income_df.groupBy(\"CountryName\", \"CountryCode\") \\\n",
    "               .pivot(\"Year\") \\\n",
    "               .agg({\"GNI\": \"first\"})\n",
    "\n",
    "# Show the pivoted DataFrame\n",
    "high_income_df.show()"
   ]
  },
  {
   "cell_type": "code",
   "execution_count": 39,
   "metadata": {},
   "outputs": [],
   "source": [
    "from pyspark.sql.functions import col, when\n",
    "\n",
    "# List of columns starting from the third column (excluding 'CountryName' and 'CountryCode')\n",
    "columns_to_fill = low_income_df.columns[2:]\n",
    "\n",
    "# Replace null values with 0 in the specified columns\n",
    "for col_name in columns_to_fill:\n",
    "    low_income_df = low_income_df.withColumn(col_name, when(col(col_name).isNull(), 0).otherwise(col(col_name)))\n",
    "    lower_middle_income_df = lower_middle_income_df.withColumn(col_name, when(col(col_name).isNull(), 0).otherwise(col(col_name)))\n",
    "    upper_middle_income_df = upper_middle_income_df.withColumn(col_name, when(col(col_name).isNull(), 0).otherwise(col(col_name)))\n",
    "    high_income_df =  high_income_df.withColumn(col_name, when(col(col_name).isNull(), 0).otherwise(col(col_name)))\n",
    "\n"
   ]
  },
  {
   "cell_type": "code",
   "execution_count": 40,
   "metadata": {},
   "outputs": [
    {
     "name": "stdout",
     "output_type": "stream",
     "text": [
      "+--------------------+\n",
      "|         CountryName|\n",
      "+--------------------+\n",
      "|         Afghanistan|\n",
      "|             Andorra|\n",
      "|      American Samoa|\n",
      "|             Burundi|\n",
      "|        Burkina Faso|\n",
      "|          Bangladesh|\n",
      "|Central African R...|\n",
      "|              Bhutan|\n",
      "|     Channel Islands|\n",
      "+--------------------+\n",
      "\n"
     ]
    }
   ],
   "source": [
    "selected_column = \"CountryName\"\n",
    "low_countries = low_income_df.select(selected_column).distinct()\n",
    "low_countries.show()"
   ]
  },
  {
   "cell_type": "code",
   "execution_count": 23,
   "metadata": {},
   "outputs": [
    {
     "name": "stdout",
     "output_type": "stream",
     "text": [
      "+--------------------+\n",
      "|         CountryName|\n",
      "+--------------------+\n",
      "|              Angola|\n",
      "|Africa Eastern an...|\n",
      "|Africa Western an...|\n",
      "|             Armenia|\n",
      "|               Benin|\n",
      "|          Azerbaijan|\n",
      "|          Bangladesh|\n",
      "|             Bolivia|\n",
      "|              Bhutan|\n",
      "+--------------------+\n",
      "\n"
     ]
    }
   ],
   "source": [
    "selected_column = \"CountryName\"\n",
    "lower_middle_countries = lower_middle_income_df.select(selected_column).distinct()\n",
    "lower_middle_countries.show()"
   ]
  },
  {
   "cell_type": "code",
   "execution_count": 24,
   "metadata": {},
   "outputs": [
    {
     "name": "stdout",
     "output_type": "stream",
     "text": [
      "+--------------------+\n",
      "|         CountryName|\n",
      "+--------------------+\n",
      "|         Afghanistan|\n",
      "|             Andorra|\n",
      "|      American Samoa|\n",
      "|             Burundi|\n",
      "|        Burkina Faso|\n",
      "|          Bangladesh|\n",
      "|Central African R...|\n",
      "|              Bhutan|\n",
      "|     Channel Islands|\n",
      "+--------------------+\n",
      "\n"
     ]
    }
   ],
   "source": [
    "selected_column = \"CountryName\"\n",
    "lower_countries = low_income_df.select(selected_column).distinct()\n",
    "lower_countries.show()"
   ]
  },
  {
   "cell_type": "code",
   "execution_count": 25,
   "metadata": {},
   "outputs": [
    {
     "name": "stdout",
     "output_type": "stream",
     "text": [
      "+--------------------+\n",
      "|         CountryName|\n",
      "+--------------------+\n",
      "|              Angola|\n",
      "|           Argentina|\n",
      "|             Albania|\n",
      "|          Arab World|\n",
      "|             Armenia|\n",
      "|          Azerbaijan|\n",
      "|Bosnia and Herzeg...|\n",
      "|            Bulgaria|\n",
      "|             Belarus|\n",
      "|              Belize|\n",
      "|              Brazil|\n",
      "|            Botswana|\n",
      "+--------------------+\n",
      "\n"
     ]
    }
   ],
   "source": [
    "selected_column = \"CountryName\"\n",
    "upper_middle_countries = upper_middle_income_df.select(selected_column).distinct()\n",
    "upper_middle_countries.show()"
   ]
  },
  {
   "cell_type": "code",
   "execution_count": 26,
   "metadata": {},
   "outputs": [
    {
     "name": "stdout",
     "output_type": "stream",
     "text": [
      "+--------------------+\n",
      "|         CountryName|\n",
      "+--------------------+\n",
      "|               Aruba|\n",
      "|           Argentina|\n",
      "|             Andorra|\n",
      "|United Arab Emirates|\n",
      "| Antigua and Barbuda|\n",
      "|           Australia|\n",
      "|             Austria|\n",
      "|             Belgium|\n",
      "|        Bahamas, The|\n",
      "|            Bulgaria|\n",
      "|             Bahrain|\n",
      "|              Brazil|\n",
      "|             Bermuda|\n",
      "|   Brunei Darussalam|\n",
      "|            Barbados|\n",
      "|               Chile|\n",
      "|Central Europe an...|\n",
      "|         Switzerland|\n",
      "|              Canada|\n",
      "+--------------------+\n",
      "\n"
     ]
    }
   ],
   "source": [
    "selected_column = \"CountryName\"\n",
    "high_income_countries = high_income_df.select(selected_column).distinct()\n",
    "high_income_countries.show()"
   ]
  },
  {
   "cell_type": "code",
   "execution_count": 1,
   "metadata": {},
   "outputs": [
    {
     "ename": "NameError",
     "evalue": "name 'high_income_countries' is not defined",
     "output_type": "error",
     "traceback": [
      "\u001b[1;31m---------------------------------------------------------------------------\u001b[0m",
      "\u001b[1;31mNameError\u001b[0m                                 Traceback (most recent call last)",
      "Cell \u001b[1;32mIn[1], line 10\u001b[0m\n\u001b[0;32m      7\u001b[0m year_columns \u001b[38;5;241m=\u001b[39m [\u001b[38;5;124m'\u001b[39m\u001b[38;5;124m2012\u001b[39m\u001b[38;5;124m'\u001b[39m, \u001b[38;5;124m'\u001b[39m\u001b[38;5;124m2013\u001b[39m\u001b[38;5;124m'\u001b[39m, \u001b[38;5;124m'\u001b[39m\u001b[38;5;124m2014\u001b[39m\u001b[38;5;124m'\u001b[39m, \u001b[38;5;124m'\u001b[39m\u001b[38;5;124m2015\u001b[39m\u001b[38;5;124m'\u001b[39m, \u001b[38;5;124m'\u001b[39m\u001b[38;5;124m2016\u001b[39m\u001b[38;5;124m'\u001b[39m, \u001b[38;5;124m'\u001b[39m\u001b[38;5;124m2017\u001b[39m\u001b[38;5;124m'\u001b[39m, \u001b[38;5;124m'\u001b[39m\u001b[38;5;124m2018\u001b[39m\u001b[38;5;124m'\u001b[39m, \u001b[38;5;124m'\u001b[39m\u001b[38;5;124m2019\u001b[39m\u001b[38;5;124m'\u001b[39m, \u001b[38;5;124m'\u001b[39m\u001b[38;5;124m2020\u001b[39m\u001b[38;5;124m'\u001b[39m, \u001b[38;5;124m'\u001b[39m\u001b[38;5;124m2021\u001b[39m\u001b[38;5;124m'\u001b[39m, \u001b[38;5;124m'\u001b[39m\u001b[38;5;124m2022\u001b[39m\u001b[38;5;124m'\u001b[39m]\n\u001b[0;32m      9\u001b[0m \u001b[38;5;66;03m# Extracting country names from the DataFrame high_income_countries\u001b[39;00m\n\u001b[1;32m---> 10\u001b[0m countries_to_plot \u001b[38;5;241m=\u001b[39m \u001b[43mhigh_income_countries\u001b[49m\u001b[38;5;241m.\u001b[39mselect(\u001b[38;5;124m'\u001b[39m\u001b[38;5;124mCountryName\u001b[39m\u001b[38;5;124m'\u001b[39m)\u001b[38;5;241m.\u001b[39mrdd\u001b[38;5;241m.\u001b[39mflatMap(\u001b[38;5;28;01mlambda\u001b[39;00m x: x)\u001b[38;5;241m.\u001b[39mcollect()\n\u001b[0;32m     12\u001b[0m \u001b[38;5;66;03m# Plotting both GDP and GNI for selected countries over different years\u001b[39;00m\n\u001b[0;32m     13\u001b[0m \u001b[38;5;28;01mfor\u001b[39;00m country \u001b[38;5;129;01min\u001b[39;00m countries_to_plot:\n\u001b[0;32m     14\u001b[0m     \u001b[38;5;66;03m# Get GDP and GNI values for the country from the respective DataFrames\u001b[39;00m\n",
      "\u001b[1;31mNameError\u001b[0m: name 'high_income_countries' is not defined"
     ]
    }
   ],
   "source": [
    "import matplotlib.pyplot as plt\n",
    "\n",
    "# Assuming you have two DataFrames: gdp_df and gni_df, each containing the GDP and GNI data respectively\n",
    "# Assuming the columns in the DataFrames are named similar to the year columns in your pivoted DataFrames\n",
    "\n",
    "# List of columns representing years\n",
    "year_columns = ['2012', '2013', '2014', '2015', '2016', '2017', '2018', '2019', '2020', '2021', '2022']\n",
    "\n",
    "# Extracting country names from the DataFrame high_income_countries\n",
    "countries_to_plot = high_income_countries.select('CountryName').rdd.flatMap(lambda x: x).collect()\n",
    "\n",
    "# Plotting both GDP and GNI for selected countries over different years\n",
    "for country in countries_to_plot:\n",
    "    # Get GDP and GNI values for the country from the respective DataFrames\n",
    "    gdp_values = gdp_df.filter(gdp_df['CountryName'] == country).select(year_columns).collect()[0]\n",
    "    gni_values = gni_df.filter(gni_df['CountryName'] == country).select(year_columns).collect()[0]\n",
    "\n",
    "    # Plotting GDP and GNI values\n",
    "    plt.plot(year_columns, gdp_values, label=f'{country} - GDP')\n",
    "    plt.plot(year_columns, gni_values, label=f'{country} - GNI')\n",
    "\n",
    "# Customize the plot\n",
    "plt.xlabel('Year')\n",
    "plt.ylabel('Value')\n",
    "plt.title('GDP and GNI Comparison')\n",
    "plt.legend()\n",
    "plt.grid(True)\n",
    "plt.xticks(year_columns)  # Set x-axis ticks to the years\n",
    "\n",
    "# Show the plot\n",
    "plt.tight_layout()\n",
    "plt.show()\n"
   ]
  },
  {
   "cell_type": "code",
   "execution_count": null,
   "metadata": {},
   "outputs": [],
   "source": [
    "jdbc_url = \"jdbc:postgresql://localhost:59064/worldBank\"\n",
    "\n",
    "# Connection properties\n",
    "properties = {\n",
    "    \"user\": \"\",\n",
    "    \"password\": \"\",\n",
    "    \"driver\": \"\"\n",
    "}\n",
    "\n",
    "# Save DataFrame to Postgres\n",
    "gdp_df.write.jdbc(url=jdbc_url, table=\"gdp\", mode=\"overwrite\", properties=properties)\n",
    "\n",
    "gni_df.write.jdbc(url=jdbc_url, table=\"gni\", mode=\"overwrite\", properties=properties)\n",
    "\n",
    "low_income_df.write.jdbc(url=jdbc_url, table=\"low_income\", mode=\"overwrite\", properties=properties)\n",
    "\n",
    "lower_middle_income_df.write.jdbc(url=jdbc_url, table=\"low_middle_income\", mode=\"overwrite\", properties=properties)\n",
    "\n",
    "upper_middle_income_df.write.jdbc(url=jdbc_url, table=\"upper_middle_income\", mode=\"overwrite\", properties=properties)\n",
    "\n",
    "high_income_df.write.jdbc(url=jdbc_url, table=\"high_income\", mode=\"overwrite\", properties=properties)\n",
    "\n",
    "lower_middle_countries.write.jdbc(url=jdbc_url, table=\"low_middle_income_countries\", mode=\"overwrite\", properties=properties)\n",
    "\n",
    "low_countries.write.jdbc(url=jdbc_url, table=\"low_income_countries\", mode=\"overwrite\", properties=properties)\n",
    "\n",
    "upper_middle_countries.write.jdbc(url=jdbc_url, table=\"upper_middle_income_countries\", mode=\"overwrite\", properties=properties)\n",
    "\n",
    "high_income_countries.write.jdbc(url=jdbc_url, table=\"high_income_countries\", mode=\"overwrite\", properties=properties)\n"
   ]
  }
 ],
 "metadata": {
  "kernelspec": {
   "display_name": "venv",
   "language": "python",
   "name": "python3"
  },
  "language_info": {
   "codemirror_mode": {
    "name": "ipython",
    "version": 3
   },
   "file_extension": ".py",
   "mimetype": "text/x-python",
   "name": "python",
   "nbconvert_exporter": "python",
   "pygments_lexer": "ipython3",
   "version": "3.9.7"
  },
  "orig_nbformat": 4
 },
 "nbformat": 4,
 "nbformat_minor": 2
}
